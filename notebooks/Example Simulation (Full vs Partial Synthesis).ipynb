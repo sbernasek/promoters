{
 "cells": [
  {
   "cell_type": "markdown",
   "metadata": {},
   "source": [
    "# Setting up and running a simulation in which synthesis is perturbed"
   ]
  },
  {
   "cell_type": "markdown",
   "metadata": {},
   "source": [
    "First we must import both a `LinearModel` and a `ConditionSimulation` object from the `promoters` package."
   ]
  },
  {
   "cell_type": "code",
   "execution_count": null,
   "metadata": {},
   "outputs": [],
   "source": [
    "from promoters.models.linear import LinearModel\n",
    "from promoters.simulation.environment import ConditionSimulation"
   ]
  },
  {
   "cell_type": "markdown",
   "metadata": {},
   "source": [
    "Next we need to define our model along with the activation strengths for each promoter. These are equivalent to $\\eta_1$, $\\eta_2$, and $\\eta_3$ as defined in the manuscript. For our example model, we will assume a cell contains a single redundant promoter acting upon the target protein."
   ]
  },
  {
   "cell_type": "code",
   "execution_count": null,
   "metadata": {},
   "outputs": [],
   "source": [
    "# perturbation severity\n",
    "severity = 0.5\n",
    "\n",
    "# promoter strengths\n",
    "eta = (0,0,1*severity)\n",
    "\n",
    "# define base model\n",
    "model = LinearModel(g1=0.01, g2=0.001, include_activation=True)\n",
    "\n",
    "# add promoters subject to perturbation\n",
    "model.add_promoters(*eta, perturbed=True)"
   ]
  },
  {
   "cell_type": "markdown",
   "metadata": {},
   "source": [
    "We then use the `ConditionSimulation.run` method to run the simulation under each metabolic condition."
   ]
  },
  {
   "cell_type": "code",
   "execution_count": null,
   "metadata": {},
   "outputs": [],
   "source": [
    "# run simulation\n",
    "simulation = ConditionSimulation(model, )\n",
    "simulation.run(skwargs=dict(N=100))"
   ]
  },
  {
   "cell_type": "markdown",
   "metadata": {},
   "source": [
    "And then we can use `ConditionSimulation.plot_comparison` method to visualize the result."
   ]
  },
  {
   "cell_type": "code",
   "execution_count": null,
   "metadata": {},
   "outputs": [],
   "source": [
    "# plot result\n",
    "simulation.plot_comparison()"
   ]
  },
  {
   "cell_type": "markdown",
   "metadata": {},
   "source": [
    "# Visualizing Individual Simulation Trajectories"
   ]
  },
  {
   "cell_type": "markdown",
   "metadata": {},
   "source": [
    "Upon completing a simulation, instances of `ConditionSimulation` acquire a `comparisons` attribute. This is a dictionary of `Comparison` objects keyed by metabolic condition. Each comparison object contains `reference` and `compared` attributes, which are `genessa.TimeSeries` instances containing the simulated dynamics before and after the promoters are removed. Error frequencies are accessible via the `Comparison.threshold_error` attribute.\n",
    "\n",
    "The function below will add a randomly sampled subset of trajectories simulated before and after the promoters are removed to a predefined axis."
   ]
  },
  {
   "cell_type": "code",
   "execution_count": null,
   "metadata": {},
   "outputs": [],
   "source": [
    "import numpy as np\n",
    "import matplotlib.pyplot as plt\n",
    "\n",
    "def plot_trajectories(comparison, ax, N=10):\n",
    "    \"\"\" Plot <N> trajectories from each condition in <comparison> on <ax>. \"\"\"\n",
    "    \n",
    "    # plot <N> randomly selected trajectories before and after all repression is removed\n",
    "    ind = np.random.randint(0, comparison.reference.states.shape[0], N)\n",
    "    for trajectory in comparison.reference.states[ind, -1, :]:\n",
    "        ax.plot(comparison.t, trajectory, color='m', lw=0.5)\n",
    "    for trajectory in comparison.compared.states[ind, -1, :]:\n",
    "        ax.plot(comparison.t, trajectory, color='grey', lw=0.5)\n",
    "    \n",
    "    # format axis\n",
    "    ax.set_ylabel('Protein level')\n",
    "    ax.set_xlabel('Time (h)')\n",
    "    ax.set_xlim(-2, 50)"
   ]
  },
  {
   "cell_type": "markdown",
   "metadata": {},
   "source": [
    "We can then use the above method to visualize a given series of simulated trajectories."
   ]
  },
  {
   "cell_type": "code",
   "execution_count": null,
   "metadata": {},
   "outputs": [],
   "source": [
    "# get comparison simulated under normal metabolic conditions\n",
    "comparison = simulation.comparisons['normal']\n",
    "\n",
    "# plot simulated dynamics\n",
    "fig, ax = plt.subplots(figsize=(2., 1.25))\n",
    "plot_trajectories(comparison, ax)\n",
    "ax.spines['top'].set_visible(False)\n",
    "ax.spines['right'].set_visible(False)\n",
    "ax.set_title('Normal metabolism')\n",
    "\n",
    "# report error frequency\n",
    "print('Error frequency: {:2.2%}'.format(comparison.threshold_error))\n",
    "normal_ylim = ax.get_ylim()"
   ]
  },
  {
   "cell_type": "code",
   "execution_count": null,
   "metadata": {},
   "outputs": [],
   "source": [
    "# get comparison simulated under normal metabolic conditions\n",
    "comparison = simulation.comparisons['diabetic']\n",
    "\n",
    "# plot simulated dynamics\n",
    "fig, ax = plt.subplots(figsize=(2., 1.25))\n",
    "plot_trajectories(comparison, ax)\n",
    "ax.spines['top'].set_visible(False)\n",
    "ax.spines['right'].set_visible(False)\n",
    "ax.set_title('Slow metabolism')\n",
    "\n",
    "# report error frequency\n",
    "print('Error frequency: {:2.2%}'.format(comparison.threshold_error))\n",
    "normal_ylim = ax.get_ylim()"
   ]
  },
  {
   "cell_type": "code",
   "execution_count": null,
   "metadata": {},
   "outputs": [],
   "source": [
    "# get comparison simulated under normal metabolic conditions\n",
    "comparison = simulation.comparisons['hyper_metabolic']\n",
    "\n",
    "# plot simulated dynamics\n",
    "fig, ax = plt.subplots(figsize=(2., 1.25))\n",
    "plot_trajectories(comparison, ax)\n",
    "ax.spines['top'].set_visible(False)\n",
    "ax.spines['right'].set_visible(False)\n",
    "ax.set_title('Fast metabolism')\n",
    "\n",
    "# report error frequency\n",
    "print('Error frequency: {:2.2%}'.format(comparison.threshold_error))\n",
    "normal_ylim = ax.get_ylim()"
   ]
  }
 ],
 "metadata": {
  "kernelspec": {
   "display_name": "Python 3 (ipykernel)",
   "language": "python",
   "name": "python3"
  },
  "language_info": {
   "codemirror_mode": {
    "name": "ipython",
    "version": 3
   },
   "file_extension": ".py",
   "mimetype": "text/x-python",
   "name": "python",
   "nbconvert_exporter": "python",
   "pygments_lexer": "ipython3",
   "version": "3.9.0"
  }
 },
 "nbformat": 4,
 "nbformat_minor": 2
}
