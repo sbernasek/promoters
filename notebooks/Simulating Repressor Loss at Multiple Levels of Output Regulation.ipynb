{
 "cells": [
  {
   "cell_type": "markdown",
   "metadata": {},
   "source": [
    "# Notebook Overview\n",
    "\n",
    "In this notebook we will evaluate the change in protein expression dynamics and the frequency of developmental errors induced by losing one of two repressors. Each pair of repressors will be drawn combinatorially from a collection of repressors acting to downregulate the target gene's transcription, transcript stability, and protein stability. We will then visualize the resultant change in developmental error frequency under a range of different biosynthesis conditions."
   ]
  },
  {
   "cell_type": "code",
   "execution_count": null,
   "metadata": {},
   "outputs": [],
   "source": [
    "import os\n",
    "import pickle\n",
    "\n",
    "import numpy as np\n",
    "import matplotlib.pyplot as plt\n",
    "\n",
    "from promoters.figures.settings import *"
   ]
  },
  {
   "cell_type": "markdown",
   "metadata": {},
   "source": [
    "### Setting up and running the simulation"
   ]
  },
  {
   "cell_type": "markdown",
   "metadata": {},
   "source": [
    "First we must import both a `LinearModel` and a `ConditionSimulation` object from the `promoters` package."
   ]
  },
  {
   "cell_type": "code",
   "execution_count": null,
   "metadata": {},
   "outputs": [],
   "source": [
    "from promoters.models.linear import LinearModel\n",
    "from promoters.simulation.environment import ConditionSimulation"
   ]
  },
  {
   "cell_type": "markdown",
   "metadata": {},
   "source": [
    "Next we need to define the feedback strengths for each repressor. These are equivalent to $\\eta_1$, $\\eta_2$, and $\\eta_3$ as defined in the manuscript."
   ]
  },
  {
   "cell_type": "code",
   "execution_count": null,
   "metadata": {},
   "outputs": [],
   "source": [
    "eta = (5e-4, 1e-4, 5e-4)"
   ]
  },
  {
   "cell_type": "markdown",
   "metadata": {},
   "source": [
    "We then perform a nested iteration over this ($\\eta_1$, $\\eta_2$, $\\eta_3$) tuple, constructing a model and performing a `ConditionSimulation` for each pair of repressors. As we are only interested in evaluating the error frequencies, we will discard the simulated dynamics and only keep the `simulation.comparisons` instance for each simulation. Note that with $N=5000$ trajectories per condition, this can take a while. We have provided a completed set of simulations in case you wish to skip this step."
   ]
  },
  {
   "cell_type": "code",
   "execution_count": null,
   "metadata": {},
   "outputs": [],
   "source": [
    "# specify number of trajectories to simulate\n",
    "N = 5000\n",
    "\n",
    "# iterate over pairs of repressors\n",
    "comparisons = {}\n",
    "for i in range(3):\n",
    "    for j in range(3):\n",
    "\n",
    "        # define feedback strengths\n",
    "        permanent = [0, 0, 0]\n",
    "        permanent[i] = eta[i]\n",
    "        removed = [0, 0, 0]\n",
    "        removed[j] = eta[j]\n",
    "\n",
    "        # define model\n",
    "        model = LinearModel(g1=0.01, g2=0.001)\n",
    "        model.add_feedback(*permanent)\n",
    "        model.add_feedback(*removed, perturbed=True)\n",
    "\n",
    "        # run simulation and save comparisons\n",
    "        simulation = ConditionSimulation(model)\n",
    "        simulation.run(skwargs=dict(N=N))\n",
    "        comparisons[(i, j)] = simulation.comparisons"
   ]
  },
  {
   "cell_type": "markdown",
   "metadata": {},
   "source": [
    "### Generating the figure"
   ]
  },
  {
   "cell_type": "markdown",
   "metadata": {},
   "source": [
    "We will now plot the results as 3x3 grids for each set of metabolic conditions. Each position in the grid will represent the corresponding `threshold_error` - that is the error frequency evaluated for the pair of repressors denoted by that position in the grid.\n",
    "\n",
    "\n",
    "Note that `promoters` uses shorthand notation for each of the metabolic conditions. Specifically:\n",
    "\n",
    "  * 'normal': normal metabolism\n",
    "  * 'diabetic': reduced energy metabolism\n",
    "  * 'hyper_metabolic': elevated energy metabolism"
   ]
  },
  {
   "cell_type": "code",
   "execution_count": null,
   "metadata": {},
   "outputs": [],
   "source": [
    "def plot_heatmap(comparisons, condition):\n",
    "        \n",
    "    # assemble matrix\n",
    "    matrix = np.zeros((3, 3), dtype=float)\n",
    "    for (i,j), comparison in comparisons.items():\n",
    "        matrix[i, j] = comparison[condition].threshold_error\n",
    "\n",
    "    # plot matrix\n",
    "    fig, ax = plt.subplots(figsize=(3, 3))\n",
    "    ax.imshow(matrix.T, cmap=plt.cm.copper_r, vmin=0, vmax=1)\n",
    "    ax.set_title('{:s}'.format(condition.upper()))\n",
    "    ax.set_xlabel('Primary Repressor Target')\n",
    "    ax.set_ylabel('Auxiliary Repressor Target')\n",
    "    ax.set_xticks([0,1,2])\n",
    "    ax.set_yticks([0,1,2])\n",
    "    ax.set_xticklabels(['Gene','mRNA','Protein'])\n",
    "    ax.set_yticklabels(['Gene','mRNA','Protein'])\n",
    "    return fig"
   ]
  },
  {
   "cell_type": "code",
   "execution_count": null,
   "metadata": {},
   "outputs": [],
   "source": [
    "# plot heatmap for each condition\n",
    "for condition in ('normal', 'diabetic', 'hyper_metabolic'):\n",
    "    fig = plot_heatmap(comparisons, condition)"
   ]
  },
  {
   "cell_type": "markdown",
   "metadata": {},
   "source": [
    "# Completed Simulations from Manuscript\n",
    "\n",
    "Each of the simulations conducted in support of our manuscript are provided below.\n",
    "\n",
    "#### Linear model in which auxiliary repressors are removed\n",
    "``data/simulations/pairwise_simulations/repressors.pkl``"
   ]
  },
  {
   "cell_type": "code",
   "execution_count": null,
   "metadata": {},
   "outputs": [],
   "source": [
    "# specify a path to manuscript data\n",
    "MANUSCRIPT_DATA_PATH = \"../../manuscript/data\"\n",
    "\n",
    "# load repressor simulations\n",
    "with open(os.path.join(MANUSCRIPT_DATA_PATH, 'simulations/pairwise_simulations/repressors.pkl'), 'rb') as file:\n",
    "    comparisons = pickle.load(file)"
   ]
  },
  {
   "cell_type": "code",
   "execution_count": null,
   "metadata": {},
   "outputs": [],
   "source": [
    "# plot heatmap for each condition\n",
    "for condition in ('normal', 'diabetic', 'hyper_metabolic'):\n",
    "    fig = plot_heatmap(comparisons, condition)"
   ]
  }
 ],
 "metadata": {
  "kernelspec": {
   "display_name": "Python 3 (ipykernel)",
   "language": "python",
   "name": "python3"
  },
  "language_info": {
   "codemirror_mode": {
    "name": "ipython",
    "version": 3
   },
   "file_extension": ".py",
   "mimetype": "text/x-python",
   "name": "python",
   "nbconvert_exporter": "python",
   "pygments_lexer": "ipython3",
   "version": "3.9.0"
  }
 },
 "nbformat": 4,
 "nbformat_minor": 2
}
